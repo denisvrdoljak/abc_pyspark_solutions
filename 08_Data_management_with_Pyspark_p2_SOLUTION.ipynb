{
 "cells": [
  {
   "cell_type": "code",
   "execution_count": 1,
   "metadata": {},
   "outputs": [],
   "source": [
    "import os\n",
    "\n",
    "from pyspark.sql import SparkSession\n",
    "import pyspark.sql.functions as s_f\n",
    "\n",
    "from pathlib import Path"
   ]
  },
  {
   "cell_type": "code",
   "execution_count": 2,
   "metadata": {},
   "outputs": [],
   "source": [
    "spark = SparkSession.builder.appName('sparkDataManagement').getOrCreate()"
   ]
  },
  {
   "cell_type": "code",
   "execution_count": 8,
   "metadata": {},
   "outputs": [],
   "source": [
    "DATA_DIR = Path(\"../data/faults\")\n"
   ]
  },
  {
   "cell_type": "code",
   "execution_count": 9,
   "metadata": {},
   "outputs": [],
   "source": [
    "faults_df = spark.read.parquet(os.path.join(DATA_DIR, 'cleaned.parquet'))"
   ]
  },
  {
   "cell_type": "code",
   "execution_count": 10,
   "metadata": {},
   "outputs": [],
   "source": [
    "faults_df = faults_df.withColumn('Other_Faults', faults_df['Other_Faults'].cast('int'))"
   ]
  },
  {
   "cell_type": "code",
   "execution_count": 11,
   "metadata": {},
   "outputs": [
    {
     "name": "stdout",
     "output_type": "stream",
     "text": [
      "+------------+------------+\n",
      "|named_faults|Other_Faults|\n",
      "+------------+------------+\n",
      "|         1.0|           0|\n",
      "|        null|        null|\n",
      "|         0.0|           1|\n",
      "+------------+------------+\n",
      "\n"
     ]
    }
   ],
   "source": [
    "faults_df.select('named_faults', 'Other_Faults').distinct().show()"
   ]
  },
  {
   "cell_type": "code",
   "execution_count": 12,
   "metadata": {},
   "outputs": [
    {
     "name": "stdout",
     "output_type": "stream",
     "text": [
      "+-------+-----------------+\n",
      "|summary|            x_min|\n",
      "+-------+-----------------+\n",
      "|  count|             1941|\n",
      "|   mean|571.1360123647604|\n",
      "| stddev| 520.690671421655|\n",
      "|    min|                0|\n",
      "|    max|             1705|\n",
      "+-------+-----------------+\n",
      "\n"
     ]
    }
   ],
   "source": [
    "## Quantiles\n",
    "faults_df.select(\"x_min\").dropna().approxQuantile(\"x_min\", [0.5], 0)\n",
    "faults_df.select(\"x_min\").dropna().approxQuantile(\"x_min\", [0.25, 0.5, 0.75], 0)\n",
    "faults_df.select(\"x_min\").describe().show()"
   ]
  },
  {
   "cell_type": "code",
   "execution_count": 13,
   "metadata": {},
   "outputs": [
    {
     "data": {
      "text/plain": [
       "0.1648036244443092"
      ]
     },
     "execution_count": 13,
     "metadata": {},
     "output_type": "execute_result"
    }
   ],
   "source": [
    "#### Bivariate Summaries\n",
    "faults_df.corr(\"x_min\", \"X_Maximum\") # Pearson correlation coef\n",
    "\n",
    "faults_df.corr(\"x_min\",\"Y_Minimum\")\n",
    "faults_df.corr(\"x_min\",\"Other_Faults\")\n"
   ]
  },
  {
   "cell_type": "code",
   "execution_count": 14,
   "metadata": {},
   "outputs": [
    {
     "data": {
      "text/plain": [
       "-0.22394371059662085"
      ]
     },
     "execution_count": 14,
     "metadata": {},
     "output_type": "execute_result"
    }
   ],
   "source": [
    "faults_df.cov(\"named_faults\", \"Other_Faults\") # Covariance"
   ]
  },
  {
   "cell_type": "code",
   "execution_count": 15,
   "metadata": {},
   "outputs": [
    {
     "name": "stdout",
     "output_type": "stream",
     "text": [
      "+-------------------------+----+---+----+\n",
      "|named_faults_Other_Faults|   0|  1|null|\n",
      "+-------------------------+----+---+----+\n",
      "|                      1.0|1253|  0|   0|\n",
      "|                     null|   0|  0|  15|\n",
      "|                      0.0|   0|673|   0|\n",
      "+-------------------------+----+---+----+\n",
      "\n"
     ]
    }
   ],
   "source": [
    "## Cross tabs\n",
    "faults_df.crosstab(\"named_faults\", \"Other_Faults\").show()"
   ]
  },
  {
   "cell_type": "code",
   "execution_count": 16,
   "metadata": {},
   "outputs": [
    {
     "name": "stdout",
     "output_type": "stream",
     "text": [
      "+------------+-----+\n",
      "|named_faults|count|\n",
      "+------------+-----+\n",
      "|         0.0|  673|\n",
      "|        null|   15|\n",
      "|         1.0| 1253|\n",
      "+------------+-----+\n",
      "\n",
      "+------------+-----------------+\n",
      "|named_faults|       avg(x_min)|\n",
      "+------------+-----------------+\n",
      "|         0.0|688.8930163447251|\n",
      "|        null|            513.0|\n",
      "|         1.0|508.5833998403831|\n",
      "+------------+-----------------+\n",
      "\n",
      "+------+-----------------+\n",
      "|Pastry|       avg(x_min)|\n",
      "+------+-----------------+\n",
      "|   0.0|552.5633882888004|\n",
      "|  null|378.7083333333333|\n",
      "|   1.0| 807.132911392405|\n",
      "+------+-----------------+\n",
      "\n",
      "+------------+------+------------------+\n",
      "|named_faults|Pastry|        avg(x_min)|\n",
      "+------------+------+------------------+\n",
      "|        null|   0.0| 579.1538461538462|\n",
      "|         0.0|  null|             341.6|\n",
      "|        null|  null|              41.0|\n",
      "|         1.0|   1.0| 811.4777070063694|\n",
      "|        null|   1.0|             125.0|\n",
      "|         1.0|  null|407.77777777777777|\n",
      "|         1.0|   0.0| 466.1530612244898|\n",
      "|         0.0|   0.0| 691.4925149700599|\n",
      "+------------+------+------------------+\n",
      "\n"
     ]
    }
   ],
   "source": [
    "## Groupby Summaries\n",
    "faults_df.groupBy(\"named_faults\").count().show()\n",
    "\n",
    "faults_df.groupBy('named_faults').avg('x_min').show()\n",
    "faults_df.groupBy('Pastry').avg('x_min').show()\n",
    "\n",
    "faults_df.groupBy('named_faults', 'Pastry').avg('x_min').show()"
   ]
  },
  {
   "cell_type": "code",
   "execution_count": 17,
   "metadata": {},
   "outputs": [
    {
     "name": "stdout",
     "output_type": "stream",
     "text": [
      "+------------+-----------------+-----------------+\n",
      "|named_faults|              0.0|              1.0|\n",
      "+------------+-----------------+-----------------+\n",
      "|         0.0|691.4925149700599|             null|\n",
      "|        null|579.1538461538462|            125.0|\n",
      "|         1.0|466.1530612244898|811.4777070063694|\n",
      "+------------+-----------------+-----------------+\n",
      "\n"
     ]
    }
   ],
   "source": [
    "## Pivot results\n",
    "\n",
    "faults_df\\\n",
    "    .dropna(subset='Pastry')\\\n",
    "    .groupBy('named_faults')\\\n",
    "    .pivot('Pastry')\\\n",
    "    .avg('x_min')\\\n",
    "    .show()"
   ]
  },
  {
   "cell_type": "code",
   "execution_count": 18,
   "metadata": {},
   "outputs": [],
   "source": [
    "## Split Data Into Random Subsets\n",
    "faults_df_train, faults_df_test = \\\n",
    "    faults_df.randomSplit([0.6, 0.4], 20)"
   ]
  },
  {
   "cell_type": "code",
   "execution_count": 19,
   "metadata": {},
   "outputs": [
    {
     "name": "stdout",
     "output_type": "stream",
     "text": [
      "+-----+------+------------+\n",
      "|x_min|Pastry|named_faults|\n",
      "+-----+------+------------+\n",
      "|  645|   1.0|         1.0|\n",
      "|  853|   1.0|         1.0|\n",
      "|  106|   1.0|         1.0|\n",
      "|  581|   1.0|         1.0|\n",
      "|  451|   1.0|         1.0|\n",
      "|   49|   1.0|         1.0|\n",
      "|   91|   1.0|         1.0|\n",
      "|  161|   1.0|         1.0|\n",
      "| 1625|   1.0|         1.0|\n",
      "| 1536|   1.0|         1.0|\n",
      "|  765|   1.0|         1.0|\n",
      "| 1268|   1.0|         1.0|\n",
      "| 1287|   1.0|         1.0|\n",
      "| 1088|   1.0|         1.0|\n",
      "|  626|   1.0|         1.0|\n",
      "|   34|   1.0|         1.0|\n",
      "| 1321|   1.0|         1.0|\n",
      "|   57|   1.0|         1.0|\n",
      "|  320|   1.0|         1.0|\n",
      "| 1343|   1.0|         1.0|\n",
      "+-----+------+------------+\n",
      "only showing top 20 rows\n",
      "\n"
     ]
    }
   ],
   "source": [
    "## Get 10% sample\n",
    "faults_df.sample(0.2).select(\"x_min\", \"Pastry\", \"named_faults\").show()"
   ]
  },
  {
   "cell_type": "code",
   "execution_count": 15,
   "metadata": {},
   "outputs": [],
   "source": [
    "### Exporting to other formats\n",
    "## Convert to Pandas DataFrame\n",
    "## This brings full data into memory on driver, only do\n",
    "## with smaller datasets (like results you want to plot...)\n",
    "faults_pd = faults_df.toPandas()\n",
    "\n",
    "\n",
    "#### Persistent Objects\n",
    "## Save to parquet file\n",
    "output_parquet_file = os.path.join(DATA_DIR, \"faults_data_management.parquet\")\n",
    "faults_df.write.parquet(output_parquet_file, mode='overwrite')"
   ]
  }
 ],
 "metadata": {
  "kernelspec": {
   "display_name": "Python 3 (ipykernel)",
   "language": "python",
   "name": "python3"
  },
  "language_info": {
   "codemirror_mode": {
    "name": "ipython",
    "version": 3
   },
   "file_extension": ".py",
   "mimetype": "text/x-python",
   "name": "python",
   "nbconvert_exporter": "python",
   "pygments_lexer": "ipython3",
   "version": "3.9.12"
  },
  "vscode": {
   "interpreter": {
    "hash": "07521bee647cb038a9765ea0ecd3eab4d12b5f5b9eec9493f2d4acdd5b019b2b"
   }
  }
 },
 "nbformat": 4,
 "nbformat_minor": 4
}
