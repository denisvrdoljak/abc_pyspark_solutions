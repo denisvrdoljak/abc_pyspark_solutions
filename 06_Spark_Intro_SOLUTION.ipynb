{
 "cells": [
  {
   "cell_type": "code",
   "execution_count": 2,
   "id": "2704fba2-406a-4b18-acd4-04e8089effc0",
   "metadata": {},
   "outputs": [
    {
     "name": "stdout",
     "output_type": "stream",
     "text": [
      "Collecting findspark\n",
      "  Downloading findspark-2.0.1-py2.py3-none-any.whl (4.4 kB)\n",
      "Installing collected packages: findspark\n",
      "Successfully installed findspark-2.0.1\n"
     ]
    }
   ],
   "source": [
    "! pip install findspark"
   ]
  },
  {
   "cell_type": "code",
   "execution_count": 22,
   "id": "45e22d7a-6362-4ac4-bef9-de2234484bd4",
   "metadata": {},
   "outputs": [],
   "source": [
    "# setup init\n",
    "import findspark\n",
    "findspark.init()\n",
    "\n",
    "import numpy as np\n",
    "import pandas as pd\n",
    "\n",
    "import matplotlib.pyplot as plt\n",
    "\n",
    "\n",
    "from pyspark.sql import SparkSession\n",
    "import pyspark.sql.functions as F\n",
    "\n",
    "import os"
   ]
  },
  {
   "cell_type": "code",
   "execution_count": 4,
   "id": "a52f40f1-3030-46d3-9208-896ccd8d2935",
   "metadata": {},
   "outputs": [
    {
     "data": {
      "text/html": [
       "\n",
       "            <div>\n",
       "                <p><b>SparkSession - in-memory</b></p>\n",
       "                \n",
       "        <div>\n",
       "            <p><b>SparkContext</b></p>\n",
       "\n",
       "            <p><a href=\"http://2f54a4dfb9d1:4040\">Spark UI</a></p>\n",
       "\n",
       "            <dl>\n",
       "              <dt>Version</dt>\n",
       "                <dd><code>v3.3.1</code></dd>\n",
       "              <dt>Master</dt>\n",
       "                <dd><code>local[*]</code></dd>\n",
       "              <dt>AppName</dt>\n",
       "                <dd><code>spark_training</code></dd>\n",
       "            </dl>\n",
       "        </div>\n",
       "        \n",
       "            </div>\n",
       "        "
      ],
      "text/plain": [
       "<pyspark.sql.session.SparkSession at 0x7f07b2bc4c40>"
      ]
     },
     "execution_count": 4,
     "metadata": {},
     "output_type": "execute_result"
    }
   ],
   "source": [
    "spark = SparkSession.builder.appName('spark_training').getOrCreate()\n",
    "\n",
    "spark.sparkContext.setLogLevel(\"ERROR\")\n",
    "\n",
    "spark"
   ]
  },
  {
   "cell_type": "code",
   "execution_count": 11,
   "id": "dee1895f-8aaf-460b-931e-939508cc862d",
   "metadata": {},
   "outputs": [
    {
     "name": "stdout",
     "output_type": "stream",
     "text": [
      "+----------+----+--------+------+---+------+----+\n",
      "|total_bill|tip |location|smoker|day|time  |size|\n",
      "+----------+----+--------+------+---+------+----+\n",
      "|16.99     |1.01|urban   |No    |Sun|Dinner|2   |\n",
      "|10.34     |1.66|rural   |No    |Sun|Dinner|3   |\n",
      "+----------+----+--------+------+---+------+----+\n",
      "only showing top 2 rows\n",
      "\n"
     ]
    }
   ],
   "source": [
    "tips = spark.read.csv('../data/tips.csv', header=True, inferSchema=True)\n",
    "\n",
    "tips.show(2, False)"
   ]
  },
  {
   "cell_type": "code",
   "execution_count": 12,
   "id": "55f80fe4-3ee9-4e6b-ba6e-facef78a1207",
   "metadata": {},
   "outputs": [
    {
     "name": "stdout",
     "output_type": "stream",
     "text": [
      "root\n",
      " |-- total_bill: double (nullable = true)\n",
      " |-- tip: double (nullable = true)\n",
      " |-- location: string (nullable = true)\n",
      " |-- smoker: string (nullable = true)\n",
      " |-- day: string (nullable = true)\n",
      " |-- time: string (nullable = true)\n",
      " |-- size: integer (nullable = true)\n",
      "\n"
     ]
    }
   ],
   "source": [
    "tips.printSchema()"
   ]
  },
  {
   "cell_type": "code",
   "execution_count": 13,
   "id": "9b8073c1-752a-484a-945c-c4a4907173a3",
   "metadata": {},
   "outputs": [
    {
     "name": "stdout",
     "output_type": "stream",
     "text": [
      "+----------+----+--------+------+---+------+----+\n",
      "|total_bill| tip|location|smoker|day|  time|size|\n",
      "+----------+----+--------+------+---+------+----+\n",
      "|     16.99|1.01|   urban|    No|Sun|Dinner|   2|\n",
      "|     10.34|1.66|   rural|    No|Sun|Dinner|   3|\n",
      "|     21.01| 3.5|   rural|    No|Sun|Dinner|   3|\n",
      "|     23.68|3.31|   rural|    No|Sun|Dinner|   2|\n",
      "|     24.59|3.61|   urban|    No|Sun|Dinner|   4|\n",
      "+----------+----+--------+------+---+------+----+\n",
      "\n"
     ]
    }
   ],
   "source": [
    "tips.limit(5).show()"
   ]
  },
  {
   "cell_type": "code",
   "execution_count": 14,
   "id": "53c9d279-d7ed-43de-97b7-cec23a4dd2a5",
   "metadata": {},
   "outputs": [
    {
     "data": {
      "text/html": [
       "<div>\n",
       "<style scoped>\n",
       "    .dataframe tbody tr th:only-of-type {\n",
       "        vertical-align: middle;\n",
       "    }\n",
       "\n",
       "    .dataframe tbody tr th {\n",
       "        vertical-align: top;\n",
       "    }\n",
       "\n",
       "    .dataframe thead th {\n",
       "        text-align: right;\n",
       "    }\n",
       "</style>\n",
       "<table border=\"1\" class=\"dataframe\">\n",
       "  <thead>\n",
       "    <tr style=\"text-align: right;\">\n",
       "      <th></th>\n",
       "      <th>total_bill</th>\n",
       "      <th>tip</th>\n",
       "      <th>location</th>\n",
       "      <th>smoker</th>\n",
       "      <th>day</th>\n",
       "      <th>time</th>\n",
       "      <th>size</th>\n",
       "    </tr>\n",
       "  </thead>\n",
       "  <tbody>\n",
       "    <tr>\n",
       "      <th>0</th>\n",
       "      <td>16.99</td>\n",
       "      <td>1.01</td>\n",
       "      <td>urban</td>\n",
       "      <td>No</td>\n",
       "      <td>Sun</td>\n",
       "      <td>Dinner</td>\n",
       "      <td>2</td>\n",
       "    </tr>\n",
       "    <tr>\n",
       "      <th>1</th>\n",
       "      <td>10.34</td>\n",
       "      <td>1.66</td>\n",
       "      <td>rural</td>\n",
       "      <td>No</td>\n",
       "      <td>Sun</td>\n",
       "      <td>Dinner</td>\n",
       "      <td>3</td>\n",
       "    </tr>\n",
       "    <tr>\n",
       "      <th>2</th>\n",
       "      <td>21.01</td>\n",
       "      <td>3.50</td>\n",
       "      <td>rural</td>\n",
       "      <td>No</td>\n",
       "      <td>Sun</td>\n",
       "      <td>Dinner</td>\n",
       "      <td>3</td>\n",
       "    </tr>\n",
       "    <tr>\n",
       "      <th>3</th>\n",
       "      <td>23.68</td>\n",
       "      <td>3.31</td>\n",
       "      <td>rural</td>\n",
       "      <td>No</td>\n",
       "      <td>Sun</td>\n",
       "      <td>Dinner</td>\n",
       "      <td>2</td>\n",
       "    </tr>\n",
       "    <tr>\n",
       "      <th>4</th>\n",
       "      <td>24.59</td>\n",
       "      <td>3.61</td>\n",
       "      <td>urban</td>\n",
       "      <td>No</td>\n",
       "      <td>Sun</td>\n",
       "      <td>Dinner</td>\n",
       "      <td>4</td>\n",
       "    </tr>\n",
       "  </tbody>\n",
       "</table>\n",
       "</div>"
      ],
      "text/plain": [
       "   total_bill   tip location smoker  day    time  size\n",
       "0       16.99  1.01    urban     No  Sun  Dinner     2\n",
       "1       10.34  1.66    rural     No  Sun  Dinner     3\n",
       "2       21.01  3.50    rural     No  Sun  Dinner     3\n",
       "3       23.68  3.31    rural     No  Sun  Dinner     2\n",
       "4       24.59  3.61    urban     No  Sun  Dinner     4"
      ]
     },
     "execution_count": 14,
     "metadata": {},
     "output_type": "execute_result"
    }
   ],
   "source": [
    "tips.limit(5).toPandas()"
   ]
  },
  {
   "cell_type": "code",
   "execution_count": 16,
   "id": "c7690738-f0d8-44f1-8846-29cd9d38eade",
   "metadata": {},
   "outputs": [
    {
     "name": "stdout",
     "output_type": "stream",
     "text": [
      "+-------+------------------+------------------+--------+------+----+------+------------------+\n",
      "|summary|        total_bill|               tip|location|smoker| day|  time|              size|\n",
      "+-------+------------------+------------------+--------+------+----+------+------------------+\n",
      "|  count|               244|               244|     244|   244| 244|   244|               244|\n",
      "|   mean|19.785942622950824|2.9982786885245902|    null|  null|null|  null| 2.569672131147541|\n",
      "| stddev| 8.902411954856857|1.3836381890011815|    null|  null|null|  null|0.9510998047322347|\n",
      "|    min|              3.07|               1.0|   rural|    No| Fri|Dinner|                 1|\n",
      "|    max|             50.81|              10.0|   urban|   Yes|Thur| Lunch|                 6|\n",
      "+-------+------------------+------------------+--------+------+----+------+------------------+\n",
      "\n"
     ]
    }
   ],
   "source": [
    "tips.describe().show()"
   ]
  },
  {
   "cell_type": "code",
   "execution_count": 18,
   "id": "c1dc1bb7-617d-48a8-bae3-364d65abfc07",
   "metadata": {},
   "outputs": [
    {
     "name": "stdout",
     "output_type": "stream",
     "text": [
      "+-------+------------------+\n",
      "|summary|               tip|\n",
      "+-------+------------------+\n",
      "|  count|               244|\n",
      "|   mean|2.9982786885245902|\n",
      "| stddev|1.3836381890011815|\n",
      "|    min|               1.0|\n",
      "|    max|              10.0|\n",
      "+-------+------------------+\n",
      "\n"
     ]
    }
   ],
   "source": [
    "tips.describe().select('summary', 'tip').show()"
   ]
  },
  {
   "cell_type": "code",
   "execution_count": 28,
   "id": "691b0d46-d9da-4c38-a66d-376de274200f",
   "metadata": {},
   "outputs": [
    {
     "data": {
      "text/plain": [
       "[1.0, 2.02, 3.25, 10.0]"
      ]
     },
     "execution_count": 28,
     "metadata": {},
     "output_type": "execute_result"
    }
   ],
   "source": [
    "tips \\\n",
    ".select('tip') \\\n",
    ".approxQuantile('tip', [0.0, 0.33, 0.66, 1.0], relativeError=0.0)"
   ]
  },
  {
   "cell_type": "code",
   "execution_count": 31,
   "id": "9f01a674-065e-4221-b95c-248dc0f13ca3",
   "metadata": {},
   "outputs": [],
   "source": [
    "only_rural = tips.where(F.col('location') == 'rural')"
   ]
  },
  {
   "cell_type": "code",
   "execution_count": 32,
   "id": "c4eafb21-dffb-4aa6-9464-6205f2d90b9b",
   "metadata": {},
   "outputs": [
    {
     "data": {
      "text/plain": [
       "157"
      ]
     },
     "execution_count": 32,
     "metadata": {},
     "output_type": "execute_result"
    }
   ],
   "source": [
    "only_rural.count()"
   ]
  },
  {
   "cell_type": "code",
   "execution_count": 33,
   "id": "969b0441-00f2-4cbc-b8f9-0f222016772b",
   "metadata": {},
   "outputs": [
    {
     "name": "stdout",
     "output_type": "stream",
     "text": [
      "+-------+------------------+\n",
      "|summary|               tip|\n",
      "+-------+------------------+\n",
      "|  count|               157|\n",
      "|   mean|3.0896178343949052|\n",
      "| stddev| 1.489101813842018|\n",
      "|    min|               1.0|\n",
      "|    max|              10.0|\n",
      "+-------+------------------+\n",
      "\n"
     ]
    }
   ],
   "source": [
    "only_rural.describe().select('summary', 'tip').show()"
   ]
  },
  {
   "cell_type": "code",
   "execution_count": 35,
   "id": "67106e24-def7-4f5a-b5a8-0649698c90dc",
   "metadata": {},
   "outputs": [
    {
     "data": {
      "text/plain": [
       "87"
      ]
     },
     "execution_count": 35,
     "metadata": {},
     "output_type": "execute_result"
    }
   ],
   "source": [
    "only_urban = tips.where(F.col('location') == 'urban')\n",
    "\n",
    "only_urban.count()"
   ]
  },
  {
   "cell_type": "code",
   "execution_count": 36,
   "id": "f51c7464-a55f-4a6c-9a69-3c5bbf98d1d5",
   "metadata": {},
   "outputs": [
    {
     "name": "stdout",
     "output_type": "stream",
     "text": [
      "+-------+------------------+\n",
      "|summary|               tip|\n",
      "+-------+------------------+\n",
      "|  count|                87|\n",
      "|   mean| 2.833448275862069|\n",
      "| stddev|1.1594945045210152|\n",
      "|    min|               1.0|\n",
      "|    max|               6.5|\n",
      "+-------+------------------+\n",
      "\n"
     ]
    }
   ],
   "source": [
    "only_urban.describe().select('summary', 'tip').show()"
   ]
  },
  {
   "cell_type": "code",
   "execution_count": 40,
   "id": "25a9e96c-eacb-45b8-8590-6f70b5022695",
   "metadata": {},
   "outputs": [
    {
     "name": "stdout",
     "output_type": "stream",
     "text": [
      "+------------------+\n",
      "|          avg(tip)|\n",
      "+------------------+\n",
      "|3.0896178343949052|\n",
      "+------------------+\n",
      "\n",
      "+-----------------+\n",
      "|         avg(tip)|\n",
      "+-----------------+\n",
      "|2.833448275862069|\n",
      "+-----------------+\n",
      "\n"
     ]
    }
   ],
   "source": [
    "only_rural.agg({\n",
    "    'tip': 'avg',\n",
    "}).show()\n",
    "\n",
    "only_urban.agg({\n",
    "    'tip': 'avg',\n",
    "}).show()"
   ]
  },
  {
   "cell_type": "code",
   "execution_count": 42,
   "id": "6ccee3a3-ddb4-449e-96b4-efedf117b7ca",
   "metadata": {},
   "outputs": [],
   "source": [
    "group_by_cols = ['location', 'smoker', 'day', 'time', 'size']"
   ]
  },
  {
   "cell_type": "code",
   "execution_count": 43,
   "id": "8106b460-2e2c-4b41-9b25-8ad763c883c8",
   "metadata": {},
   "outputs": [
    {
     "name": "stdout",
     "output_type": "stream",
     "text": [
      "+--------+------------------+\n",
      "|location|          avg(tip)|\n",
      "+--------+------------------+\n",
      "|   rural|3.0896178343949052|\n",
      "|   urban| 2.833448275862069|\n",
      "+--------+------------------+\n",
      "\n",
      "+------+------------------+\n",
      "|smoker|          avg(tip)|\n",
      "+------+------------------+\n",
      "|    No|2.9918543046357624|\n",
      "|   Yes| 3.008709677419355|\n",
      "+------+------------------+\n",
      "\n",
      "+----+-----------------+\n",
      "| day|         avg(tip)|\n",
      "+----+-----------------+\n",
      "|Thur|2.771451612903226|\n",
      "| Sun|3.255131578947369|\n",
      "| Sat|2.993103448275862|\n",
      "| Fri|2.734736842105263|\n",
      "+----+-----------------+\n",
      "\n",
      "+------+------------------+\n",
      "|  time|          avg(tip)|\n",
      "+------+------------------+\n",
      "| Lunch|2.7280882352941176|\n",
      "|Dinner| 3.102670454545454|\n",
      "+------+------------------+\n",
      "\n",
      "+----+------------------+\n",
      "|size|          avg(tip)|\n",
      "+----+------------------+\n",
      "|   1|            1.4375|\n",
      "|   6|             5.225|\n",
      "|   3| 3.393157894736842|\n",
      "|   5|4.0280000000000005|\n",
      "|   4| 4.135405405405407|\n",
      "|   2| 2.582307692307693|\n",
      "+----+------------------+\n",
      "\n"
     ]
    }
   ],
   "source": [
    "for c in group_by_cols:\n",
    "    tips.groupBy(c).avg('tip').show()"
   ]
  },
  {
   "cell_type": "code",
   "execution_count": 45,
   "id": "9aba2bc9-fdff-47d7-a577-1efe0422a390",
   "metadata": {},
   "outputs": [
    {
     "name": "stdout",
     "output_type": "stream",
     "text": [
      "+----+--------------------+\n",
      "|tip |log_tip             |\n",
      "+----+--------------------+\n",
      "|1.01|0.009950330853168092|\n",
      "|1.66|0.5068176023684519  |\n",
      "|3.5 |1.252762968495368   |\n",
      "|3.31|1.1969481893889715  |\n",
      "|3.61|1.2837077723447896  |\n",
      "+----+--------------------+\n",
      "only showing top 5 rows\n",
      "\n"
     ]
    }
   ],
   "source": [
    "tips \\\n",
    ".withColumn('log_tip', F.log(tips['tip'])) \\\n",
    ".select('tip', 'log_tip').show(5, False)"
   ]
  },
  {
   "cell_type": "code",
   "execution_count": 52,
   "id": "2474e4c0-16ea-452a-8926-217711532c41",
   "metadata": {},
   "outputs": [],
   "source": [
    "max_tip = tips.select(F.max('tip').alias('max_tip')).collect()[0].max_tip"
   ]
  },
  {
   "cell_type": "code",
   "execution_count": 56,
   "id": "63c88bcd-eb0a-4d84-8039-08bb01e84951",
   "metadata": {},
   "outputs": [
    {
     "name": "stdout",
     "output_type": "stream",
     "text": [
      "+----+-------------------+\n",
      "| tip|            tip_pct|\n",
      "+----+-------------------+\n",
      "|1.01|              0.101|\n",
      "|1.66|0.16599999999999998|\n",
      "| 3.5|               0.35|\n",
      "|3.31|              0.331|\n",
      "|3.61|              0.361|\n",
      "|4.71|              0.471|\n",
      "| 2.0|                0.2|\n",
      "|3.12|              0.312|\n",
      "|1.96|              0.196|\n",
      "|3.23|              0.323|\n",
      "|1.71|0.17099999999999999|\n",
      "| 5.0|                0.5|\n",
      "|1.57|              0.157|\n",
      "| 3.0|                0.3|\n",
      "|3.02|              0.302|\n",
      "|3.92|              0.392|\n",
      "|1.67|0.16699999999999998|\n",
      "|3.71|              0.371|\n",
      "| 3.5|               0.35|\n",
      "|3.35|              0.335|\n",
      "+----+-------------------+\n",
      "only showing top 20 rows\n",
      "\n"
     ]
    }
   ],
   "source": [
    "tips = tips \\\n",
    ".withColumn('tip_pct', F.col('tip') / max_tip) \n",
    "\n",
    "tips\\\n",
    ".select('tip', 'tip_pct').show()"
   ]
  },
  {
   "cell_type": "code",
   "execution_count": 57,
   "id": "2a4ac8fd-4540-4c29-9712-866019a1603c",
   "metadata": {},
   "outputs": [
    {
     "name": "stdout",
     "output_type": "stream",
     "text": [
      "+--------+------------------+\n",
      "|location|      avg(tip_pct)|\n",
      "+--------+------------------+\n",
      "|   rural|0.3089617834394903|\n",
      "|   urban|0.2833448275862068|\n",
      "+--------+------------------+\n",
      "\n",
      "+------+-------------------+\n",
      "|smoker|       avg(tip_pct)|\n",
      "+------+-------------------+\n",
      "|    No|0.29918543046357615|\n",
      "|   Yes|0.30087096774193534|\n",
      "+------+-------------------+\n",
      "\n",
      "+----+-------------------+\n",
      "| day|       avg(tip_pct)|\n",
      "+----+-------------------+\n",
      "|Thur| 0.2771451612903225|\n",
      "| Sun|0.32551315789473667|\n",
      "| Sat|0.29931034482758606|\n",
      "| Fri|0.27347368421052637|\n",
      "+----+-------------------+\n",
      "\n",
      "+------+------------------+\n",
      "|  time|      avg(tip_pct)|\n",
      "+------+------------------+\n",
      "| Lunch|0.2728088235294117|\n",
      "|Dinner|0.3102670454545454|\n",
      "+------+------------------+\n",
      "\n",
      "+----+-------------------+\n",
      "|size|       avg(tip_pct)|\n",
      "+----+-------------------+\n",
      "|   1|            0.14375|\n",
      "|   6|             0.5225|\n",
      "|   3| 0.3393157894736843|\n",
      "|   5|0.40279999999999994|\n",
      "|   4|0.41354054054054057|\n",
      "|   2|  0.258230769230769|\n",
      "+----+-------------------+\n",
      "\n"
     ]
    }
   ],
   "source": [
    "for c in group_by_cols:\n",
    "    tips.groupBy(c).avg('tip_pct').show()"
   ]
  },
  {
   "cell_type": "code",
   "execution_count": 61,
   "id": "24c96fbb-9aa3-4def-9899-d5dd079ffc0b",
   "metadata": {},
   "outputs": [
    {
     "data": {
      "text/plain": [
       "<AxesSubplot: >"
      ]
     },
     "execution_count": 61,
     "metadata": {},
     "output_type": "execute_result"
    },
    {
     "data": {
      "image/png": "[encoded data removed]",
      "text/plain": [
       "<Figure size 640x480 with 1 Axes>"
      ]
     },
     "metadata": {},
     "output_type": "display_data"
    }
   ],
   "source": [
    "tips\\\n",
    ".select('tip', 'tip_pct').toPandas()['tip_pct'].hist()"
   ]
  },
  {
   "cell_type": "code",
   "execution_count": null,
   "id": "009fc766-d632-4247-a81d-41e4e86b4116",
   "metadata": {},
   "outputs": [],
   "source": []
  }
 ],
 "metadata": {
  "kernelspec": {
   "display_name": "Python 3 (ipykernel)",
   "language": "python",
   "name": "python3"
  },
  "language_info": {
   "codemirror_mode": {
    "name": "ipython",
    "version": 3
   },
   "file_extension": ".py",
   "mimetype": "text/x-python",
   "name": "python",
   "nbconvert_exporter": "python",
   "pygments_lexer": "ipython3",
   "version": "3.9.12"
  }
 },
 "nbformat": 4,
 "nbformat_minor": 5
}
