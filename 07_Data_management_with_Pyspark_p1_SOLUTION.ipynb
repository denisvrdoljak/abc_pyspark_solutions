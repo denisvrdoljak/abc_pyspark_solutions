{
 "cells": [
  {
   "cell_type": "code",
   "execution_count": 3,
   "metadata": {},
   "outputs": [
    {
     "name": "stdout",
     "output_type": "stream",
     "text": [
      "Collecting findspark\n",
      "  Downloading findspark-2.0.1-py2.py3-none-any.whl (4.4 kB)\n",
      "Installing collected packages: findspark\n",
      "Successfully installed findspark-2.0.1\n"
     ]
    }
   ],
   "source": [
    "! pip install findspark"
   ]
  },
  {
   "cell_type": "code",
   "execution_count": 4,
   "metadata": {},
   "outputs": [],
   "source": [
    "import os\n",
    "\n",
    "import findspark\n",
    "findspark.init()\n",
    "\n",
    "from pyspark.sql import SparkSession\n",
    "import pyspark.sql.functions as s_f\n",
    "\n",
    "from pathlib import Path"
   ]
  },
  {
   "cell_type": "code",
   "execution_count": 5,
   "metadata": {},
   "outputs": [],
   "source": [
    "spark = SparkSession.builder.appName('sparkDataManagement').getOrCreate()"
   ]
  },
  {
   "cell_type": "code",
   "execution_count": 6,
   "metadata": {},
   "outputs": [],
   "source": [
    "DATA_DIR = Path(\"../data/faults\")\n",
    "\n",
    "feature_data_file = os.path.join(DATA_DIR, \"faults_features.csv\")\n",
    "label_data_file = os.path.join(DATA_DIR, \"faults_labels.csv\")"
   ]
  },
  {
   "cell_type": "code",
   "execution_count": 7,
   "metadata": {},
   "outputs": [],
   "source": [
    "feature_names_file = os.path.join(DATA_DIR, \"names_features.txt\")\n",
    "label_names_file = os.path.join(DATA_DIR, \"names_labels.txt\")"
   ]
  },
  {
   "cell_type": "code",
   "execution_count": 8,
   "metadata": {},
   "outputs": [],
   "source": [
    "feature_df = spark.read.csv(feature_data_file, inferSchema=True)\n",
    "label_df = spark.read.csv(label_data_file, inferSchema=True)\n",
    "\n",
    "feature_names = spark.read.text(feature_names_file)\n",
    "label_names = spark.read.text(label_names_file)"
   ]
  },
  {
   "cell_type": "code",
   "execution_count": 9,
   "metadata": {},
   "outputs": [],
   "source": [
    "# Acquire column names from files\n",
    "# Renaming whole DataFrames is annoying because they are immutable\n",
    "\n",
    "feature_names_list = [x[0] for x in feature_names.collect()]\n",
    "feature_df = feature_df.toDF(*feature_names_list)  # Note the '*' here to unroll the list as arguments\n",
    "\n",
    "label_names_list = [x[0] for x in label_names.collect()]\n",
    "label_df = label_df.toDF(*label_names_list)  # Note the '*' here to unroll the list as arguments"
   ]
  },
  {
   "cell_type": "code",
   "execution_count": 11,
   "metadata": {},
   "outputs": [],
   "source": [
    "# Join on ID\n",
    "faults_df = feature_df.join(label_df, on=\"ID\", how=\"left\")"
   ]
  },
  {
   "cell_type": "code",
   "execution_count": 13,
   "metadata": {},
   "outputs": [
    {
     "name": "stdout",
     "output_type": "stream",
     "text": [
      "1941\n"
     ]
    },
    {
     "data": {
      "text/plain": [
       "35"
      ]
     },
     "execution_count": 13,
     "metadata": {},
     "output_type": "execute_result"
    }
   ],
   "source": [
    "### Basic DataFrame manipulations\n",
    "# Check shape\n",
    "print(faults_df.count())\n",
    "len(faults_df.columns)\n"
   ]
  },
  {
   "cell_type": "code",
   "execution_count": 9,
   "metadata": {},
   "outputs": [
    {
     "name": "stdout",
     "output_type": "stream",
     "text": [
      "root\n",
      " |-- ID: string (nullable = true)\n",
      " |-- X_Minimum: integer (nullable = true)\n",
      " |-- X_Maximum: integer (nullable = true)\n",
      " |-- Y_Minimum: integer (nullable = true)\n",
      " |-- Y_Maximum: integer (nullable = true)\n",
      " |-- Pixels_Areas: integer (nullable = true)\n",
      " |-- X_Perimeter: integer (nullable = true)\n",
      " |-- Y_Perimeter: integer (nullable = true)\n",
      " |-- Sum_of_Luminosity: integer (nullable = true)\n",
      " |-- Minimum_of_Luminosity: integer (nullable = true)\n",
      " |-- Maximum_of_Luminosity: integer (nullable = true)\n",
      " |-- Length_of_Conveyer: integer (nullable = true)\n",
      " |-- TypeOfSteel_A300: integer (nullable = true)\n",
      " |-- TypeOfSteel_A400: integer (nullable = true)\n",
      " |-- Steel_Plate_Thickness: integer (nullable = true)\n",
      " |-- Edges_Index: double (nullable = true)\n",
      " |-- Empty_Index: double (nullable = true)\n",
      " |-- Square_Index: double (nullable = true)\n",
      " |-- Outside_X_Index: double (nullable = true)\n",
      " |-- Edges_X_Index: double (nullable = true)\n",
      " |-- Edges_Y_Index: double (nullable = true)\n",
      " |-- Outside_Global_Index: double (nullable = true)\n",
      " |-- LogOfAreas: double (nullable = true)\n",
      " |-- Log_X_Index: double (nullable = true)\n",
      " |-- Log_Y_Index: double (nullable = true)\n",
      " |-- Orientation_Index: double (nullable = true)\n",
      " |-- Luminosity_Index: double (nullable = true)\n",
      " |-- SigmoidOfAreas: double (nullable = true)\n",
      " |-- Pastry: double (nullable = true)\n",
      " |-- Z_Scratch: integer (nullable = true)\n",
      " |-- K_Scatch: integer (nullable = true)\n",
      " |-- Stains: integer (nullable = true)\n",
      " |-- Dirtiness: integer (nullable = true)\n",
      " |-- Bumps: integer (nullable = true)\n",
      " |-- Other_Faults: string (nullable = true)\n",
      "\n"
     ]
    }
   ],
   "source": [
    "# Print schema\n",
    "faults_df.printSchema()"
   ]
  },
  {
   "cell_type": "code",
   "execution_count": null,
   "metadata": {},
   "outputs": [],
   "source": []
  },
  {
   "cell_type": "code",
   "execution_count": 14,
   "metadata": {},
   "outputs": [
    {
     "name": "stdout",
     "output_type": "stream",
     "text": [
      "+----+---------+---------+---------+---------+------------+-----------+-----------+-----------------+---------------------+---------------------+------------------+----------------+----------------+---------------------+-----------+-----------+------------+---------------+-------------+-------------+--------------------+----------+-----------+-----------+-----------------+----------------+--------------+------+---------+--------+------+---------+-----+------------+\n",
      "|  ID|X_Minimum|X_Maximum|Y_Minimum|Y_Maximum|Pixels_Areas|X_Perimeter|Y_Perimeter|Sum_of_Luminosity|Minimum_of_Luminosity|Maximum_of_Luminosity|Length_of_Conveyer|TypeOfSteel_A300|TypeOfSteel_A400|Steel_Plate_Thickness|Edges_Index|Empty_Index|Square_Index|Outside_X_Index|Edges_X_Index|Edges_Y_Index|Outside_Global_Index|LogOfAreas|Log_X_Index|Log_Y_Index|Orientation_Index|Luminosity_Index|SigmoidOfAreas|Pastry|Z_Scratch|K_Scatch|Stains|Dirtiness|Bumps|Other_Faults|\n",
      "+----+---------+---------+---------+---------+------------+-----------+-----------+-----------------+---------------------+---------------------+------------------+----------------+----------------+---------------------+-----------+-----------+------------+---------------+-------------+-------------+--------------------+----------+-----------+-----------+-----------------+----------------+--------------+------+---------+--------+------+---------+-----+------------+\n",
      "|c478|       42|       50|   270900|   270944|         267|         17|         44|            24220|                   76|                  108|              1687|               1|               0|                   80|     0.0498|     0.2415|      0.1818|         0.0047|       0.4706|          1.0|                 1.0|    2.4265|     0.9031|     1.6435|           0.8182|         -0.2913|        0.5822|   1.0|        0|       0|     0|        0|    0|           0|\n",
      "|b836|      645|      651|  2538079|  2538108|         108|         10|         30|            11397|                   84|                  123|              1687|               1|               0|                   80|     0.7647|     0.3793|      0.2069|         0.0036|          0.6|       0.9667|                 1.0|    2.0334|     0.7782|     1.4624|           0.7931|         -0.1756|        0.2984|   1.0|        0|       0|     0|        0|    0|           0|\n",
      "|d810|      829|      835|  1553913|  1553931|          71|          8|         19|             7972|                   99|                  125|              1623|               1|               0|                  100|      0.971|     0.3426|      0.3333|         0.0037|         0.75|       0.9474|                 1.0|    1.8513|     0.7782|     1.2553|           0.6667|         -0.1228|         0.215|   1.0|        0|       0|     0|        0|    0|           0|\n",
      "|d576|      853|      860|   369370|   369415|         176|         13|         45|            18996|                   99|                  126|              1353|               0|               1|                  290|     0.7287|     0.4413|      0.1556|         0.0052|       0.5385|          1.0|                 1.0|    2.2455|     0.8451|     1.6532|           0.8444|         -0.1568|        0.5212|   1.0|        0|       0|     0|        0|    0|           0|\n",
      "+----+---------+---------+---------+---------+------------+-----------+-----------+-----------------+---------------------+---------------------+------------------+----------------+----------------+---------------------+-----------+-----------+------------+---------------+-------------+-------------+--------------------+----------+-----------+-----------+-----------------+----------------+--------------+------+---------+--------+------+---------+-----+------------+\n",
      "only showing top 4 rows\n",
      "\n"
     ]
    }
   ],
   "source": [
    "# Display first 4 rows\n",
    "faults_df.show(4)"
   ]
  },
  {
   "cell_type": "code",
   "execution_count": 11,
   "metadata": {},
   "outputs": [
    {
     "name": "stdout",
     "output_type": "stream",
     "text": [
      "+-------+-----+-----------------+-----------------+------------------+-----------------+------------------+------------------+------------------+------------------+---------------------+---------------------+------------------+-------------------+-------------------+---------------------+-------------------+-------------------+-------------------+--------------------+-------------------+-------------------+--------------------+------------------+-------------------+------------------+-------------------+-------------------+-------------------+-------------------+-------------------+-------------------+-------------------+-------------------+------------------+-------------------+\n",
      "|summary|   ID|        X_Minimum|        X_Maximum|         Y_Minimum|        Y_Maximum|      Pixels_Areas|       X_Perimeter|       Y_Perimeter| Sum_of_Luminosity|Minimum_of_Luminosity|Maximum_of_Luminosity|Length_of_Conveyer|   TypeOfSteel_A300|   TypeOfSteel_A400|Steel_Plate_Thickness|        Edges_Index|        Empty_Index|       Square_Index|     Outside_X_Index|      Edges_X_Index|      Edges_Y_Index|Outside_Global_Index|        LogOfAreas|        Log_X_Index|       Log_Y_Index|  Orientation_Index|   Luminosity_Index|     SigmoidOfAreas|             Pastry|          Z_Scratch|           K_Scatch|             Stains|          Dirtiness|             Bumps|       Other_Faults|\n",
      "+-------+-----+-----------------+-----------------+------------------+-----------------+------------------+------------------+------------------+------------------+---------------------+---------------------+------------------+-------------------+-------------------+---------------------+-------------------+-------------------+-------------------+--------------------+-------------------+-------------------+--------------------+------------------+-------------------+------------------+-------------------+-------------------+-------------------+-------------------+-------------------+-------------------+-------------------+-------------------+------------------+-------------------+\n",
      "|  count| 1941|             1941|             1941|              1941|             1941|              1941|              1941|              1941|              1941|                 1941|                 1941|              1941|               1941|               1941|                 1941|               1941|               1941|               1941|                1941|               1941|               1941|                1941|              1941|               1941|              1941|               1941|               1941|               1941|               1917|               1941|               1941|               1941|               1941|              1941|               1941|\n",
      "|   mean| null|571.1360123647604|617.9644513137558| 1650684.868109222|1650738.705306543|1893.8784131890777|111.85522926326635| 82.96599690880988|206312.14786192685|    84.54868624420402|   130.19371458011335|1459.1602266872746|0.40030911901081917| 0.5996908809891809|    78.73776403915508|0.33171519835136487|0.41420334878928305| 0.5707671303451827| 0.03336110252447184| 0.6105286450283353| 0.8134722308088619|  0.5757341576506955|2.4923883565172686| 1.3356861411643441|1.4032713034518252|0.08328763523956736|-0.1313050489438434| 0.5854204533745492|0.08242044861763172|0.09788768675940238|0.20144255538382277|0.03709428129829984|0.02833590932509016|0.2071097372488408| 0.3494288681204569|\n",
      "| stddev| null| 520.690671421655|497.6274102752873|1774578.4147280124|1774590.089000212| 5168.459559501142| 301.2091870967001|426.48287921776455|512293.58760867827|   32.134275700870326|   18.690991866885447| 144.5778233152924|0.49008720796047306|0.49008720796047295|    55.08603169202901|0.29971174873659323|0.13726148878404607|0.27105838504756874|0.058961169352050084|0.24327691913789315|0.23427362312339234| 0.48235199045248933| 0.788929852524649|0.48161160942034265|0.4543451618411425| 0.5008680465381179|  0.148766840354052|0.33945180539295483|0.27507597082946655|0.29723930752162486|0.40118122036001264|0.18904154857024516| 0.1659734250668233|0.4053392912663567|0.47691343751846554|\n",
      "|    min|a1005|                0|                4|              6712|             6724|                 2|                 2|                 1|               250|                    0|                   37|              1227|                  0|                  0|                   40|                0.0|                0.0|             0.0083|              0.0015|             0.0144|             0.0484|                 0.0|             0.301|              0.301|               0.0|             -0.991|            -0.9989|0.11900000000000001|                0.0|                  0|                  0|                  0|                  0|                 0|                  0|\n",
      "|    max| e999|             1705|             1713|          12987661|         12987692|            152655|             10449|             18152|          11591414|                  203|                  253|              1794|                  1|                  1|                  300|             0.9952|             0.9439|                1.0|              0.8759|                1.0|                1.0|                 1.0|            5.1837|             3.0741|            4.2587|             0.9917|             0.6421|                1.0|                1.0|                  1|                  1|                  1|                  1|                 1|           Unlikely|\n",
      "+-------+-----+-----------------+-----------------+------------------+-----------------+------------------+------------------+------------------+------------------+---------------------+---------------------+------------------+-------------------+-------------------+---------------------+-------------------+-------------------+-------------------+--------------------+-------------------+-------------------+--------------------+------------------+-------------------+------------------+-------------------+-------------------+-------------------+-------------------+-------------------+-------------------+-------------------+-------------------+------------------+-------------------+\n",
      "\n"
     ]
    }
   ],
   "source": [
    "# Get numerical summary\n",
    "faults_df.describe().show()"
   ]
  },
  {
   "cell_type": "code",
   "execution_count": 16,
   "metadata": {},
   "outputs": [
    {
     "name": "stdout",
     "output_type": "stream",
     "text": [
      "+-------+-----------------+\n",
      "|summary|        X_Minimum|\n",
      "+-------+-----------------+\n",
      "|  count|             1941|\n",
      "|   mean|571.1360123647604|\n",
      "| stddev| 520.690671421655|\n",
      "|    min|                0|\n",
      "|    max|             1705|\n",
      "+-------+-----------------+\n",
      "\n"
     ]
    }
   ],
   "source": [
    "# Select X_minimum only\n",
    "faults_df.select(\"X_Minimum\").describe().show()"
   ]
  },
  {
   "cell_type": "code",
   "execution_count": 17,
   "metadata": {},
   "outputs": [],
   "source": [
    "# Rename first column\n",
    "faults_df = faults_df.withColumnRenamed('X_Minimum', 'x_min')"
   ]
  },
  {
   "cell_type": "code",
   "execution_count": 18,
   "metadata": {},
   "outputs": [
    {
     "name": "stdout",
     "output_type": "stream",
     "text": [
      "+-----+-----+---------+---------+---------+------------+-----------+-----------+-----------------+---------------------+---------------------+------------------+----------------+----------------+---------------------+-----------+-----------+------------+---------------+-------------+-------------+--------------------+----------+-----------+-----------+-----------------+----------------+--------------+------+---------+--------+------+---------+-----+------------+\n",
      "|   ID|x_min|X_Maximum|Y_Minimum|Y_Maximum|Pixels_Areas|X_Perimeter|Y_Perimeter|Sum_of_Luminosity|Minimum_of_Luminosity|Maximum_of_Luminosity|Length_of_Conveyer|TypeOfSteel_A300|TypeOfSteel_A400|Steel_Plate_Thickness|Edges_Index|Empty_Index|Square_Index|Outside_X_Index|Edges_X_Index|Edges_Y_Index|Outside_Global_Index|LogOfAreas|Log_X_Index|Log_Y_Index|Orientation_Index|Luminosity_Index|SigmoidOfAreas|Pastry|Z_Scratch|K_Scatch|Stains|Dirtiness|Bumps|Other_Faults|\n",
      "+-----+-----+---------+---------+---------+------------+-----------+-----------+-----------------+---------------------+---------------------+------------------+----------------+----------------+---------------------+-----------+-----------+------------+---------------+-------------+-------------+--------------------+----------+-----------+-----------+-----------------+----------------+--------------+------+---------+--------+------+---------+-----+------------+\n",
      "| d295|    0|       16|  2724583|  2724595|         111|         20|         21|             6323|                   41|                   70|              1356|               1|               0|                   70|        0.0|     0.4219|        0.75|         0.0118|          0.8|       0.5714|                 0.0|    2.0453|     1.2041|     1.0792|            -0.25|          -0.555|        0.3241|   0.0|        1|       0|     0|        0|    0|           0|\n",
      "| d386|    0|      436|   407936|   408170|       24365|       1084|        680|          2935414|                   22|                  143|              1404|               0|               1|                   40|        0.0|     0.7612|      0.5367|         0.3105|       0.4022|       0.3441|                 0.0|    4.3868|     2.6395|     2.3692|          -0.4633|         -0.0588|           1.0|   0.0|        0|       1|     0|        0|    0|           0|\n",
      "|a1413|    0|        6|  2939205|  2939222|          69|         14|         18|             7151|                   92|                  118|              1348|               1|               0|                   70|        0.0|     0.3235|      0.3529|         0.0044|       0.4286|       0.9444|                 1.0|    1.8389|     0.7782|     1.2305|           0.6471|         -0.1903|        0.2083|   0.0|        1|       0|     0|        0|    0|           0|\n",
      "| b175|    0|       17|   177337|   177387|         353|         53|         56|            32335|                   79|                  118|              1352|               1|               0|                   70|        0.0|     0.5847|        0.34|         0.0126|       0.3207|       0.8929|                 1.0|    2.5478|     1.2305|      1.699|             0.66|         -0.2844|        0.9747|   0.0|        1|       0|     0|        0|    0|           0|\n",
      "|b1668|    0|      225|   344016|   344225|       25473|        992|        578|          3061597|                   23|                  148|              1400|               0|               1|                   40|        0.0|     0.4583|      0.9289|         0.1607|       0.2268|       0.3616|                 0.0|    4.4061|     2.3522|     2.3201|          -0.0711|          -0.061|           1.0|   0.0|        0|       1|     0|        0|    0|           0|\n",
      "+-----+-----+---------+---------+---------+------------+-----------+-----------+-----------------+---------------------+---------------------+------------------+----------------+----------------+---------------------+-----------+-----------+------------+---------------+-------------+-------------+--------------------+----------+-----------+-----------+-----------------+----------------+--------------+------+---------+--------+------+---------+-----+------------+\n",
      "only showing top 5 rows\n",
      "\n",
      "+-----+-----+---------+---------+---------+------------+-----------+-----------+-----------------+---------------------+---------------------+------------------+----------------+----------------+---------------------+-----------+-----------+------------+---------------+-------------+-------------+--------------------+----------+-----------+-----------+-----------------+----------------+-------------------+------+---------+--------+------+---------+-----+------------+\n",
      "|   ID|x_min|X_Maximum|Y_Minimum|Y_Maximum|Pixels_Areas|X_Perimeter|Y_Perimeter|Sum_of_Luminosity|Minimum_of_Luminosity|Maximum_of_Luminosity|Length_of_Conveyer|TypeOfSteel_A300|TypeOfSteel_A400|Steel_Plate_Thickness|Edges_Index|Empty_Index|Square_Index|Outside_X_Index|Edges_X_Index|Edges_Y_Index|Outside_Global_Index|LogOfAreas|Log_X_Index|Log_Y_Index|Orientation_Index|Luminosity_Index|     SigmoidOfAreas|Pastry|Z_Scratch|K_Scatch|Stains|Dirtiness|Bumps|Other_Faults|\n",
      "+-----+-----+---------+---------+---------+------------+-----------+-----------+-----------------+---------------------+---------------------+------------------+----------------+----------------+---------------------+-----------+-----------+------------+---------------+-------------+-------------+--------------------+----------+-----------+-----------+-----------------+----------------+-------------------+------+---------+--------+------+---------+-----+------------+\n",
      "|b1390| 1705|     1713|   389963|   389978|         102|          9|         15|             8359|                   70|                   95|              1715|               0|               1|                   50|     0.0023|       0.15|      0.5333|         0.0047|       0.8889|          1.0|                 1.0|    2.0086|     0.9031|     1.1761|           0.4667|         -0.3598|             0.2288|   0.0|        0|       0|     0|        0|    0|           1|\n",
      "| a933| 1688|     1694|   247330|   247414|         359|         29|         84|            19226|                   30|                   93|              1696|               0|               1|                   90|     0.0024|     0.2877|      0.0714|         0.0035|       0.2069|          1.0|                 1.0|    2.5551|     0.7782|     1.9243|           0.9286|         -0.5816|             0.7933|   1.0|        0|       0|     0|        0|    0|           0|\n",
      "|a1340| 1687|     1696|   150712|   150740|         167|         24|         28|             9559|                   23|                   94|              1698|               0|               1|                   90|     0.0024|     0.3373|      0.3214|         0.0053|        0.375|          1.0|                 1.0|    2.2227|     0.9542|     1.4472|           0.6786|         -0.5528|0.41700000000000004|   1.0|        0|       0|     0|        0|    0|           0|\n",
      "| a419| 1687|     1694|   348227|   348257|         140|         12|         30|             9253|                   38|                  101|              1698|               0|               1|                   90|     0.0047|     0.3333|      0.2333|         0.0041|       0.5833|          1.0|                 1.0|    2.1461|     0.8451|     1.4771|           0.7667|         -0.4836|             0.3509|   1.0|        0|       0|     0|        0|    0|           0|\n",
      "|a1297| 1685|     1692|   297096|   297166|         349|         33|         70|            24697|                   45|                   95|              1698|               0|               1|                   90|     0.0071|     0.2878|         0.1|         0.0041|       0.2121|          1.0|                 1.0|    2.5428|     0.8451|     1.8451|              0.9|         -0.4471|             0.7776|   1.0|        0|       0|     0|        0|    0|           0|\n",
      "+-----+-----+---------+---------+---------+------------+-----------+-----------+-----------------+---------------------+---------------------+------------------+----------------+----------------+---------------------+-----------+-----------+------------+---------------+-------------+-------------+--------------------+----------+-----------+-----------+-----------------+----------------+-------------------+------+---------+--------+------+---------+-----+------------+\n",
      "only showing top 5 rows\n",
      "\n"
     ]
    }
   ],
   "source": [
    "## Sort Data\n",
    "faults_df.sort(faults_df[\"x_min\"]).show(5)\n",
    "faults_df.sort(faults_df[\"x_min\"].desc()).show(5)"
   ]
  },
  {
   "cell_type": "code",
   "execution_count": 19,
   "metadata": {},
   "outputs": [
    {
     "name": "stdout",
     "output_type": "stream",
     "text": [
      "+-----+-----+---------+---------+---------+------------+-----------+-----------+-----------------+---------------------+---------------------+------------------+----------------+----------------+---------------------+-----------+-----------+------------+---------------+-------------+-------------+--------------------+----------+-----------+-----------+-----------------+----------------+--------------+------+---------+--------+------+---------+-----+------------+\n",
      "|   ID|x_min|X_Maximum|Y_Minimum|Y_Maximum|Pixels_Areas|X_Perimeter|Y_Perimeter|Sum_of_Luminosity|Minimum_of_Luminosity|Maximum_of_Luminosity|Length_of_Conveyer|TypeOfSteel_A300|TypeOfSteel_A400|Steel_Plate_Thickness|Edges_Index|Empty_Index|Square_Index|Outside_X_Index|Edges_X_Index|Edges_Y_Index|Outside_Global_Index|LogOfAreas|Log_X_Index|Log_Y_Index|Orientation_Index|Luminosity_Index|SigmoidOfAreas|Pastry|Z_Scratch|K_Scatch|Stains|Dirtiness|Bumps|Other_Faults|\n",
      "+-----+-----+---------+---------+---------+------------+-----------+-----------+-----------------+---------------------+---------------------+------------------+----------------+----------------+---------------------+-----------+-----------+------------+---------------+-------------+-------------+--------------------+----------+-----------+-----------+-----------------+----------------+--------------+------+---------+--------+------+---------+-----+------------+\n",
      "|  e21| 1289|     1306|   498078|   498335|        2409|         60|        260|           246930|                   37|                  126|              1353|               0|               1|                  185|     0.0695|     0.4486|      0.0662|         0.0126|       0.2833|       0.9885|                 1.0|    3.3818|     1.2305|     2.4099|           0.9338|         -0.1992|           1.0|   1.0|        0|       0|     0|        0|    0|           0|\n",
      "|c1772| 1601|     1613|    21349|    21376|         209|         15|         27|            24807|                   96|                  141|              1687|               0|               1|                  200|     0.0877|     0.3549|      0.4444|         0.0071|          0.8|          1.0|                 1.0|    2.3201|     1.0792|     1.4314|           0.5556|         -0.0727|        0.5362|   1.0|        0|       0|     0|        0|    0|           0|\n",
      "| b702| 1363|     1372|  2128884|  2128907|         171|          9|         23|            16645|                   77|                  111|              1373|               0|               1|                   40|     0.0015|     0.1739|      0.3913|         0.0066|          1.0|          1.0|                 1.0|     2.233|     0.9542|     1.3617|           0.6087|         -0.2395|        0.3464|   1.0|        0|       0|     0|        0|    0|           0|\n",
      "+-----+-----+---------+---------+---------+------------+-----------+-----------+-----------------+---------------------+---------------------+------------------+----------------+----------------+---------------------+-----------+-----------+------------+---------------+-------------+-------------+--------------------+----------+-----------+-----------+-----------------+----------------+--------------+------+---------+--------+------+---------+-----+------------+\n",
      "only showing top 3 rows\n",
      "\n",
      "532\n",
      "+-------+------------------+\n",
      "|summary|             x_min|\n",
      "+-------+------------------+\n",
      "|  count|               532|\n",
      "|   mean|1284.5996240601503|\n",
      "| stddev|194.55977504070208|\n",
      "|    min|              1002|\n",
      "|    max|              1705|\n",
      "+-------+------------------+\n",
      "\n"
     ]
    }
   ],
   "source": [
    "## Subset data\n",
    "faults_df.filter(faults_df[\"x_min\"] > 1000).show(3)\n",
    "print(faults_df.filter(faults_df[\"x_min\"] > 1000).count())\n",
    "faults_df.filter(faults_df[\"x_min\"] > 1000).describe(\"x_min\").show()"
   ]
  },
  {
   "cell_type": "code",
   "execution_count": 20,
   "metadata": {},
   "outputs": [
    {
     "name": "stdout",
     "output_type": "stream",
     "text": [
      "+----+-----+---------+---------+---------+------------+-----------+-----------+-----------------+---------------------+---------------------+------------------+----------------+----------------+---------------------+-----------+-----------+------------+---------------+-------------+-------------+--------------------+----------+-----------+-----------+-----------------+----------------+--------------+------+---------+--------+------+---------+-----+------------+\n",
      "|  ID|x_min|X_Maximum|Y_Minimum|Y_Maximum|Pixels_Areas|X_Perimeter|Y_Perimeter|Sum_of_Luminosity|Minimum_of_Luminosity|Maximum_of_Luminosity|Length_of_Conveyer|TypeOfSteel_A300|TypeOfSteel_A400|Steel_Plate_Thickness|Edges_Index|Empty_Index|Square_Index|Outside_X_Index|Edges_X_Index|Edges_Y_Index|Outside_Global_Index|LogOfAreas|Log_X_Index|Log_Y_Index|Orientation_Index|Luminosity_Index|SigmoidOfAreas|Pastry|Z_Scratch|K_Scatch|Stains|Dirtiness|Bumps|Other_Faults|\n",
      "+----+-----+---------+---------+---------+------------+-----------+-----------+-----------------+---------------------+---------------------+------------------+----------------+----------------+---------------------+-----------+-----------+------------+---------------+-------------+-------------+--------------------+----------+-----------+-----------+-----------------+----------------+--------------+------+---------+--------+------+---------+-----+------------+\n",
      "|c478|   42|       50|   270900|   270944|         267|         17|         44|            24220|                   76|                  108|              1687|               1|               0|                   80|     0.0498|     0.2415|      0.1818|         0.0047|       0.4706|          1.0|                 1.0|    2.4265|     0.9031|     1.6435|           0.8182|         -0.2913|        0.5822|   1.0|        0|       0|     0|        0|    0|           0|\n",
      "|b836|  645|      651|  2538079|  2538108|         108|         10|         30|            11397|                   84|                  123|              1687|               1|               0|                   80|     0.7647|     0.3793|      0.2069|         0.0036|          0.6|       0.9667|                 1.0|    2.0334|     0.7782|     1.4624|           0.7931|         -0.1756|        0.2984|   1.0|        0|       0|     0|        0|    0|           0|\n",
      "|d810|  829|      835|  1553913|  1553931|          71|          8|         19|             7972|                   99|                  125|              1623|               1|               0|                  100|      0.971|     0.3426|      0.3333|         0.0037|         0.75|       0.9474|                 1.0|    1.8513|     0.7782|     1.2553|           0.6667|         -0.1228|         0.215|   1.0|        0|       0|     0|        0|    0|           0|\n",
      "+----+-----+---------+---------+---------+------------+-----------+-----------+-----------------+---------------------+---------------------+------------------+----------------+----------------+---------------------+-----------+-----------+------------+---------------+-------------+-------------+--------------------+----------+-----------+-----------+-----------------+----------------+--------------+------+---------+--------+------+---------+-----+------------+\n",
      "only showing top 3 rows\n",
      "\n"
     ]
    }
   ],
   "source": [
    "faults_df.select('*').show(3) # Select All Columns"
   ]
  },
  {
   "cell_type": "code",
   "execution_count": 17,
   "metadata": {},
   "outputs": [
    {
     "name": "stdout",
     "output_type": "stream",
     "text": [
      "+------------+\n",
      "|Other_Faults|\n",
      "+------------+\n",
      "|           0|\n",
      "|    Unlikely|\n",
      "|           1|\n",
      "+------------+\n",
      "\n",
      "+------------+-----+\n",
      "|Other_Faults|count|\n",
      "+------------+-----+\n",
      "|           0| 1253|\n",
      "|    Unlikely|   15|\n",
      "|           1|  673|\n",
      "+------------+-----+\n",
      "\n"
     ]
    }
   ],
   "source": [
    "### Data cleaning\n",
    "## Fix \"Other_Faults\": the 'unlikely' level should be 0\n",
    "faults_df.select('Other_Faults').distinct().show()\n",
    "faults_df.groupBy('Other_Faults').count().show()"
   ]
  },
  {
   "cell_type": "code",
   "execution_count": 18,
   "metadata": {},
   "outputs": [
    {
     "name": "stdout",
     "output_type": "stream",
     "text": [
      "+------------+\n",
      "|Other_Faults|\n",
      "+------------+\n",
      "|           0|\n",
      "|           1|\n",
      "+------------+\n",
      "\n"
     ]
    }
   ],
   "source": [
    "faults_df = faults_df.withColumn('Other_Faults',\n",
    "                     s_f.when(faults_df['Other_Faults'] != 'Unlikely', faults_df['Other_Faults']).otherwise(0))\n",
    "\n",
    "faults_df.select('Other_Faults').distinct().show()"
   ]
  },
  {
   "cell_type": "code",
   "execution_count": 19,
   "metadata": {},
   "outputs": [
    {
     "data": {
      "text/plain": [
       "1917"
      ]
     },
     "execution_count": 19,
     "metadata": {},
     "output_type": "execute_result"
    }
   ],
   "source": [
    "## Dealing with missing data\n",
    "faults_df.count()\n",
    "faults_df.dropna().count()\n"
   ]
  },
  {
   "cell_type": "code",
   "execution_count": 20,
   "metadata": {},
   "outputs": [
    {
     "data": {
      "text/plain": [
       "1917"
      ]
     },
     "execution_count": 20,
     "metadata": {},
     "output_type": "execute_result"
    }
   ],
   "source": [
    "# Turns out \"Pastry\" has some missing values:\n",
    "faults_df.select(\"Pastry\").count()\n",
    "faults_df.select(\"Pastry\").dropna().count()"
   ]
  },
  {
   "cell_type": "code",
   "execution_count": 21,
   "metadata": {},
   "outputs": [],
   "source": [
    "# These can be set to zero:\n",
    "faults_df = faults_df.fillna(0)\n"
   ]
  },
  {
   "cell_type": "code",
   "execution_count": 22,
   "metadata": {},
   "outputs": [
    {
     "data": {
      "text/plain": [
       "1941"
      ]
     },
     "execution_count": 22,
     "metadata": {},
     "output_type": "execute_result"
    }
   ],
   "source": [
    "faults_df.count()\n",
    "faults_df.dropna().count()"
   ]
  },
  {
   "cell_type": "code",
   "execution_count": 23,
   "metadata": {},
   "outputs": [],
   "source": [
    "# Transform the 'Other_Faults' column to show the logical inverse and rename it\n",
    "faults_df = faults_df.withColumn('named_faults', 1 - faults_df['Other_Faults'])"
   ]
  },
  {
   "cell_type": "code",
   "execution_count": 26,
   "metadata": {},
   "outputs": [],
   "source": [
    "# save DF\n",
    "\n",
    "faults_df.write.parquet(os.path.join(DATA_DIR, 'cleaned.parquet'))"
   ]
  },
  {
   "cell_type": "code",
   "execution_count": null,
   "metadata": {},
   "outputs": [],
   "source": []
  }
 ],
 "metadata": {
  "kernelspec": {
   "display_name": "Python 3 (ipykernel)",
   "language": "python",
   "name": "python3"
  },
  "language_info": {
   "codemirror_mode": {
    "name": "ipython",
    "version": 3
   },
   "file_extension": ".py",
   "mimetype": "text/x-python",
   "name": "python",
   "nbconvert_exporter": "python",
   "pygments_lexer": "ipython3",
   "version": "3.10.6"
  },
  "vscode": {
   "interpreter": {
    "hash": "07521bee647cb038a9765ea0ecd3eab4d12b5f5b9eec9493f2d4acdd5b019b2b"
   }
  }
 },
 "nbformat": 4,
 "nbformat_minor": 4
}
